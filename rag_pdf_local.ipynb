{
 "cells": [
  {
   "cell_type": "markdown",
   "metadata": {},
   "source": [
    "# Creating a RAG with an In-Memory Vector Database\n",
    "\n",
    "- Models: OpenAI models or Ollama Open-Source models\n",
    "- Databases: In-Memory Vector Database\n",
    "- Data type: PDF\n",
    "\n",
    "## Content\n",
    "\n",
    "- [Running an LLM](#Running-an-LLM)\n",
    "- [Loading PDF Documents](#Loading-PDF-Documents)\n",
    "- [Prompt Engineering](#Prompt-Engineering)\n",
    "- [Creating a Local In-Memory Vector Database](#Creating-a-Local-In-Memory-Vector-Database)\n",
    "- [Testing End-to-End RAG](#Testing-End-to-End-RAG)"
   ]
  },
  {
   "cell_type": "code",
   "execution_count": null,
   "metadata": {},
   "outputs": [],
   "source": [
    "from utils import (DocArrayInMemorySearch, Path, PromptTemplate, PyPDFLoader,\n",
    "                   StrOutputParser, itemgetter, load_embedding_model,\n",
    "                   load_model)"
   ]
  },
  {
   "cell_type": "markdown",
   "metadata": {},
   "source": [
    "### Running an LLM"
   ]
  },
  {
   "cell_type": "code",
   "execution_count": 2,
   "metadata": {},
   "outputs": [],
   "source": [
    "# MODEL = \"llama3\"\n",
    "# MODEL = \"phi3:mini\"\n",
    "MODEL = \"gpt-3.5-turbo\"\n",
    "# MODEL_EMBEDDINGS = \"text-embeddings-3-small\"\n",
    "\n",
    "model = load_model(MODEL)\n",
    "embeddings = load_embedding_model(source=\"openai\", name=None)"
   ]
  },
  {
   "cell_type": "code",
   "execution_count": 3,
   "metadata": {},
   "outputs": [
    {
     "data": {
      "text/plain": [
       "AIMessage(content='¡Hola! Estoy aquí para ayudarte, ¿en qué puedo asistirte hoy?', response_metadata={'token_usage': {'completion_tokens': 20, 'prompt_tokens': 15, 'total_tokens': 35}, 'model_name': 'gpt-3.5-turbo', 'system_fingerprint': None, 'finish_reason': 'stop', 'logprobs': None}, id='run-5be6482c-1357-4491-afb9-a27d1c89f3b8-0', usage_metadata={'input_tokens': 15, 'output_tokens': 20, 'total_tokens': 35})"
      ]
     },
     "execution_count": 3,
     "metadata": {},
     "output_type": "execute_result"
    }
   ],
   "source": [
    "model.invoke(\"Hola, ¿cómo estás?\")"
   ]
  },
  {
   "cell_type": "code",
   "execution_count": 4,
   "metadata": {},
   "outputs": [],
   "source": [
    "parser = StrOutputParser()\n",
    "\n",
    "chain = model | parser # For llama3, this is not necessary, but it is for other models\n",
    "chain.invoke(\"Explica el concepto de democracia\")"
   ]
  },
  {
   "cell_type": "markdown",
   "metadata": {},
   "source": [
    "### Loading PDFs Documents"
   ]
  },
  {
   "cell_type": "code",
   "execution_count": 15,
   "metadata": {},
   "outputs": [
    {
     "data": {
      "text/plain": [
       "[Document(page_content='CONGRESO DE LOS DIPUTADOS\\nXV LEGISLATURA\\nSerie A:  \\nPROYECTOS DE LEY  24 de mayo de 2024  Núm. 21-1  Pág. 1BOLETÍN OFICIAL  \\nDE LAS CORTES GENERALES\\nPROYECTO DE LEY\\n121/000021  Proyecto de Ley de universalidad del Sistema Nacional \\nde Salud. \\nLa Mesa de la Cámara, en su reunión del día de hoy, ha adoptado el acuerdo que se \\nindica respecto del asunto de referencia.\\n(121) Proyecto de ley.\\nAutor: Gobierno.\\nProyecto de Ley de universalidad del Sistema Nacional de Salud.\\nAcuerdo:\\nEncomendar su aprobación con competencia legislativa plena, conforme al artículo 148 del \\nReglamento, a la Comisión de Sanidad. Asimismo, publicar en el Boletín Oficial de las \\nCortes Generales, estableciendo plazo de enmiendas, por un período de quince días \\nhábiles, que finaliza el día 11 de junio de 2024.\\nEn ejecución de dicho acuerdo se ordena la publicación de conformidad con el \\nartículo 97 del Reglamento de la Cámara.\\nPalacio del Congreso de los Diputados, 21 de mayo de 2024.—P.D. El Secretario \\nGeneral del Congreso de los Diputados, Fernando Galindo Elola-Olaso.\\ncve: BOCG-15-A-21-1', metadata={'source': 'database/pdfs/doc1.pdf', 'page': 0}),\n",
       " Document(page_content='BOLETÍN OFICIAL DE LAS CORTES GENERALES\\nCONGRESO DE LOS DIPUTADOS\\nSerie A  Núm. 21-1  24 de mayo de 2024  Pág. 2\\nPROYECTO DE LEY DE UNIVERSALIDAD DEL SISTEMA NACIONAL DE SALUD\\nExposición de motivos\\nI\\nLa Ley 14/1986, de  25 de abril, General de Sanidad, que configuró nuestro Sistema \\nNacional de Salud (SNS), lo definió como el conjunto de los servicios de salud de la \\nAdministración del Estado y de los servicios de salud de las Comunidades Autónomas, \\nintegrando todas las funciones y prestaciones sanitarias que son responsabilidad de los \\npoderes públicos para el debido cumplimiento del derecho a la protección de la salud.\\nLa universalidad del SNS, junto con la equidad y la cohesión, son los principios en los \\nque se sustenta nuestro sistema sanitario público y, como tal, se recogen en las normas \\nsanitarias más relevantes como son la misma Ley 14/1986, de 25 de abril, General \\nde Sanidad; la Ley 16/2003, de  28 de mayo, de cohesión y calidad del Sistema Nacional \\nde Salud, y la Ley 33/2011, de 4 de octubre, General de Salud Pública.\\nEn este sentido, la Ley 14/1986, de 25 de abril, regula todas las acciones que permiten \\nhacer efectivo el derecho a la protección de la salud reconocido en el artículo 43 de la \\nConstitución española y establece los principios y criterios sustantivos que han permitido \\nconfigurar el SNS, como son la equidad y la cobertura sanitaria universal.\\nEl segundo apartado del artículo tres de la Ley 14/1986, de 25 de abril, determina, \\ndentro de los principios generales, que la asistencia sanitaria pública se extenderá a toda \\nla población española, así como que el acceso y las prestaciones sanitarias se realizarán \\nen condiciones de igualdad efectiva. Y el apartado a) del artículo cuarenta y seis, que es \\nuna característica fundamental del SNS la extensión de sus servicios a toda la población. \\nPor otra parte, la disposición adicional quinta dispone que la extensión de esa asistencia \\nsanitaria pública se efectúe de manera progresiva.\\nDe este modo, estos principios rectores han sido desarrollados, paulatinamente, para \\nampliar la acción protectora del SNS a los colectivos que se encontraban fuera de su \\natención sanitaria, en coherencia con una sanidad pública que, desde la Ley 49/1998, de 30 \\nde diciembre, de Presupuestos Generales del Estado para 1999, se encuentra desvinculada \\nde las cotizaciones sociales, al financiarse a través de los impuestos.\\nA nivel internacional, el 12 de diciembre de 2012, la Asamblea General de las Naciones \\nUnidas aprobó la resolución 67/81 en la que insta a los gobiernos a que promuevan la \\ninclusión de la cobertura sanitaria universal como elemento importante de la agenda \\ninternacional de desarrollo y el cumplimiento de los objetivos de desarrollo convenidos \\ninternacionalmente, incluidos los Objetivos de Desarrollo del Milenio, y a que los sistemas \\nnacionales de salud garanticen que toda la población, en particular la más desfavorecida, \\ntenga acceso a los sistemas sanitarios.\\nAsimismo, la Asamblea General de las Naciones Unidas adoptó, en septiembre \\nde 2015, la Agenda 2030 para el Desarrollo Sostenible, con 17 objetivos y su cumplimiento \\npara el año 2030. España, junto con otros 193 países, se comprometió a cumplirlos, \\naprobando el 29 de junio de 2018 el Consejo de Ministros el «Plan de Acción para la \\nimplementación de la Agenda 2030» que tiene como una de las metas perteneciente al \\ntercer objetivo de desarrollo sostenible, relativo a la salud y el bienestar, lograr la cobertura \\nsanitaria universal y el acceso a los medicamentos.\\nDel mismo modo, el 17 de diciembre de 2017, el Parlamento Europeo, el Consejo y la \\nComisión Europea proclamaron conjuntamente el Pilar Europeo de Derechos Sociales, \\ncuyo principio 16 hace referencia al derecho al acceso oportuno a una asistencia sanitaria \\nasequible, de carácter preventivo y curativo y de buena calidad.\\nPor otra parte, la pandemia de Covid-19 ha puesto de manifiesto algunas debilidades', metadata={'source': 'database/pdfs/doc1.pdf', 'page': 1}),\n",
       " Document(page_content='asequible, de carácter preventivo y curativo y de buena calidad.\\nPor otra parte, la pandemia de Covid-19 ha puesto de manifiesto algunas debilidades \\ndel SNS. Debilidades que se han convertido en retos a afrontar para el Gobierno y cuyo \\nanálisis ha sido abordado en el Ministerio de Sanidad, así como en distintos ámbitos, como \\nson el grupo de trabajo en materia de sanidad y salud pública de la Comisión de \\nReconstrucción Económica y Social del Congreso de los Diputados y por diversos grupos \\ncve: BOCG-15-A-21-1', metadata={'source': 'database/pdfs/doc1.pdf', 'page': 1}),\n",
       " Document(page_content='BOLETÍN OFICIAL DE LAS CORTES GENERALES\\nCONGRESO DE LOS DIPUTADOS\\nSerie A  Núm. 21-1  24 de mayo de 2024  Pág. 3\\nde expertos, sociedades científicas y el movimiento asociativo. Así, se han acumulado \\nanálisis, datos, conocimiento y propuestas para mejorar la situación.\\nEsta norma dispone medidas para la consolidación de los principios de equidad \\ny universalidad del SNS. Para ello, se amplía la cobertura sanitaria del SNS a nuevos \\ncolectivos, se recupera la cartera común de servicios única del SNS, se clarifican y \\nconcretan sus prestaciones y se evita que puedan introducirse nuevos copagos. Con ello, \\nse espera facilitar el desarrollo de unas políticas públicas de salud más eficaces y eficientes \\ny abordar de forma integrada las necesidades de protección de la salud de la población, \\nde modo que los retos demográficos, ambientales, sociales, tecnológicos y económicos, \\nactuales y futuros, tengan respuestas apropiadas.\\nEste empeño solo puede abordarse con garantías de éxito si el conjunto de la \\nsociedad se gobierna maximizando los resultados que las políticas públicas tienen en \\nla salud de la población y con una apuesta firme por el fortalecimiento del SNS. Por esta \\nrazón, el Gobierno de España ha incluido la renovación y ampliación de las capacidades \\ndel SNS en el Plan de Recuperación, Transformación y Resiliencia, en su componente  18. \\nEste, tal y como se especifica en el mencionado Plan, pretende corregir las debilidades \\nestructurales detectadas y adaptar el sistema sanitario a los retos y desafíos identificados. \\nSu objetivo es tener un modelo sanitario más robusto, flexible y resiliente. La consolidación \\nde la cohesión, la equidad y la universalidad es una de las cinco reformas incluidas \\nen dicho Plan.\\nII\\nEl texto de este proyecto de ley se compone de una exposición de motivos, tres \\nartículos, dos disposiciones adicionales, una disposición transitoria, una disposición \\nderogatoria única y cinco disposiciones finales. Comporta la modificación de distintas \\nnormas, por lo que la exposición de motivos se desarrolla, para una mejor compresión \\ndel texto, en función de los artículos que contiene el proyecto.\\nEl artículo primero modifica la Ley  16/2003, de  28 de mayo, de cohesión y calidad \\ndel Sistema Nacional de Salud con varios objetivos de gran trascendencia, que se \\ndescriben a continuación.\\nEn relación al acceso universal al SNS persigue: a) ampliar el derecho a la protección \\nde la salud con cargo a fondos públicos a las personas españolas de origen residentes en \\nel exterior durante sus desplazamientos temporales al territorio español y sus familiares \\nque les acompañen, cuando, de acuerdo a lo dispuesto en los reglamentos comunitarios \\nde coordinación de sistemas de Seguridad Social o los convenios bilaterales que \\ncomprendan la prestación de asistencia sanitaria, no tuvieran prevista esta cobertura; \\nb) ampliar el derecho a la protección de la salud con cargo a fondos públicos a las \\npersonas ascendientes reagrupadas por su hijo o hija titular del derecho a la asistencia \\nsanitaria que estén a cargo del mismo, siempre que no exista un tercero obligado al pago \\nde su asistencia sanitaria y, a tales efectos, las autoridades competentes no exigirán \\nseguro de enfermedad para la autorización de residencia en España o la inscripción en \\nel registro central de extranjeros cuando comprueben que la persona ascendiente \\nse encuentra a cargo de la persona titular del derecho, y c) garantizar la homogeneidad \\nen la efectividad del derecho a la protección a la salud a las personas no registradas \\nni autorizadas como residentes en España. Adicionalmente incluye, como personas \\nextranjeras que, no siendo titulares de derecho, tienen derecho a la protección de la salud \\ny a la atención sanitaria en las mismas condiciones que las personas titulares de derecho \\ndurante su permanencia en España, mientras permanezcan en esta situación, a las', metadata={'source': 'database/pdfs/doc1.pdf', 'page': 2}),\n",
       " Document(page_content='y a la atención sanitaria en las mismas condiciones que las personas titulares de derecho \\ndurante su permanencia en España, mientras permanezcan en esta situación, a las \\nsolicitantes de protección internacional, a las desplazadas solicitantes y beneficiarias de \\nprotección temporal y a las víctimas de trata de seres humanos o de explotación sexual \\nque hayan sido identificadas en el marco de lo dispuesto por el artículo 59 bis de la Ley \\nOrgánica 4/2000, de 11 de enero, de derechos y libertades de los extranjeros en España \\ny su integración social o que hayan sido acreditadas como tales en el marco de lo \\ndispuesto por el artículo 47 del Real Decreto-ley  6/2022, de 29 de marzo, por el que \\ncve: BOCG-15-A-21-1', metadata={'source': 'database/pdfs/doc1.pdf', 'page': 2}),\n",
       " Document(page_content='BOLETÍN OFICIAL DE LAS CORTES GENERALES\\nCONGRESO DE LOS DIPUTADOS\\nSerie A  Núm. 21-1  24 de mayo de 2024  Pág. 4\\nse adoptan medidas urgentes en el marco del Plan Nacional de respuesta a las \\nconsecuencias económicas y sociales de la guerra en Ucrania.\\nTiene, por tanto, como finalidad que el derecho a la protección de la salud alcance a \\nlos colectivos citados, como expresión de una política activa de ampliación de derechos \\nque benefician, no solo a la salud individual, sino a la salud del conjunto de la ciudadanía \\nespañola, minimizando las desigualdades en salud y garantizando la mejor salud para \\ntodos y para todas.\\nEl Real Decreto-ley 7/2018, de 27 de julio, sobre el acceso universal al Sistema Nacional \\nde Salud fue un paso importante en esta dirección. Supuso un cambio de modelo en la \\natención sanitaria del SNS, fundamentalmente porque la titularidad del derecho a la \\nasistencia y su reconocimiento pasó a basarse en la condición de ciudadanía y se desligó \\nde la condición de persona asegurada o beneficiaria. Mediante esta norma se ha reconocido \\nque todas las personas no registradas ni autorizadas como residentes en nuestro país que \\nse encuentran en España tienen derecho a la protección a la salud en las mismas \\ncondiciones que las personas con nacionalidad española. Este colectivo, por tanto, ha visto \\nrecuperado su derecho a la protección de la salud que tras el Real Decreto-ley 16/2012, \\nde 20 de abril, de medidas urgentes para garantizar la sostenibilidad del Sistema Nacional \\nde Salud y mejorar la calidad y seguridad de sus prestaciones únicamente dejó una vía de \\nacceso a la asistencia sanitaria para este colectivo: la atención urgente.\\nTras la publicación e implementación del Real Decreto-ley 7/2018, de 27 de julio, \\ndistintos colectivos del ámbito asociativo, como la red de colectivos, movimientos, \\norganizaciones y personas implicadas en la defensa del acceso universal a la salud han \\npuesto de manifiesto, mediante distintos informes, situaciones que muestran falta de \\nhomogeneidad en la aplicación de este real decreto-ley y que visualizan fisuras en el \\nacceso universal al SNS.\\nEn relación a las personas extranjeras solicitantes de protección internacional y las \\nvíctimas de trata de seres humanos o de explotación sexual que hayan sido identificadas \\nen el marco de lo dispuesto por el artículo 59 bis de la Ley Orgánica 4/2000, de 11 de \\nenero, de derechos y libertades de los extranjeros en España y su integración social o \\nque hayan sido acreditadas como tales en el marco de lo dispuesto por el artículo 47 del \\nReal Decreto-ley 6/2022, de 29 de marzo, por el que se adoptan medidas urgentes en el \\nmarco del Plan Nacional de respuesta a las consecuencias económicas y sociales de la \\nguerra en Ucrania, cabe destacar que en la actualidad estos colectivos ya disponen de \\ncobertura sanitaria por lo establecido en las disposiciones adicionales cuarta y quinta, \\nrespectivamente, del Real Decreto 1192/2012, de 3 de agosto, por el que se regula la \\ncondición de persona asegurada o beneficiaria a efectos de la asistencia sanitaria en \\nEspaña, con cargo a fondos públicos, a través del Sistema Nacional de Salud, pero no se \\nencuentran incluidas en la ley que regula esta condición en la normativa sanitaria \\nespañola, por lo que se considera oportuno su inclusión. En el supuesto de las personas \\ndesplazadas, de acuerdo al Real Decreto  1325/2003, de  24 de octubre, por el que se \\naprueba el Reglamento sobre régimen de protección temporal en caso de afluencia \\nmasiva de personas desplazadas, tienen la misma asistencia sanitaria que la \\nproporcionada a las solicitantes de asilo por el Real Decreto  203/1995, de  10 de febrero, \\npor el que se aprueba el Reglamento de aplicación de la Ley  5/1984, de  26 de marzo, \\nreguladora del Derecho de Asilo y de la condición de refugiado, modificada por la \\nLey 9/1994, de  19 de mayo, y tampoco se encuentra incluidas en la ley que regula esta \\ncondición en la normativa sanitaria española.', metadata={'source': 'database/pdfs/doc1.pdf', 'page': 3}),\n",
       " Document(page_content='Ley 9/1994, de  19 de mayo, y tampoco se encuentra incluidas en la ley que regula esta \\ncondición en la normativa sanitaria española.\\nPor lo expuesto, la situación actual requiere que, con la presente modificación, se \\nasegure que todas las personas que viven en España tengan acceso al sistema sanitario \\npúblico y que este sea efectivo en todos los centros de salud y hospitales de nuestro país.\\nAsimismo, partiendo de las necesarias cautelas dirigidas a no comprometer la \\nsostenibilidad financiera del SNS, se establecen criterios para evitar el uso inapropiado del \\nderecho a la asistencia sanitaria, como son que la asistencia será con cargo a fondos \\npúblicos siempre que no exista un tercero obligado al pago, o que no se tenga la obligación \\nde acreditar la cobertura obligatoria por otra vía, o bien, que no se pueda exportar el \\ncve: BOCG-15-A-21-1', metadata={'source': 'database/pdfs/doc1.pdf', 'page': 3}),\n",
       " Document(page_content='BOLETÍN OFICIAL DE LAS CORTES GENERALES\\nCONGRESO DE LOS DIPUTADOS\\nSerie A  Núm. 21-1  24 de mayo de 2024  Pág. 5\\nderecho de cobertura sanitaria desde su país de origen o procedencia. Todo ello en virtud \\nde lo dispuesto en la normativa nacional, en el derecho de la Unión Europea, los convenios \\nbilaterales y demás normativa aplicable\\nEn relación a la cartera común de servicios del SNS se pretende recuperar la cartera \\ncomún de servicios del SNS para unificar la cartera común básica de servicios \\nasistenciales, la cartera común suplementaria y la cartera común de servicios accesorios, \\nasí como para establecer las garantías necesarias para que no puedan introducirse nuevos \\ncopagos sanitarios y clarificar que las prestaciones de salud pública son prestaciones \\nincluidas en la misma.\\nLa cartera común de servicios del SNS es un instrumento esencial para la equidad de \\nla ciudadanía en el acceso a las prestaciones sanitarias basadas en la mejor evidencia \\ncientífica disponible. Una de las modificaciones que introdujo el Real Decreto-ley 16/2012, \\nde 20 de abril, fue la división de la cartera de servicios comunes del SNS en tres tipos \\nde carteras: la cartera básica de servicios asistenciales, la suplementaria (que comprende \\nla prestación farmacéutica, la prestación ortoprotésica, la prestación dietoterápica y \\nel transporte sanitario no urgente) y la de servicios accesorios, en la que además, se \\nespecificaba, en cada una de ellas, si conllevaba aportación para su prestación o no, \\nmodificándose así el artículo  8 de la Ley 16/2003, de  28 de mayo y separándolo en  5 \\nartículos (8, 8 bis, 8 ter, 8 quáter y 8 quinquies). Dicha modificación dividió la cartera \\ncomún de servicios en modalidades que se copagaban o no, abriendo la posibilidad de \\nestablecer nuevos copagos en prestaciones que hasta entonces carecían de ellos, tales \\ncomo el transporte sanitario no urgente y los productos dietoterápicos, así como de \\nmodificar los existentes, como en los productos ortoprotésicos ambulatorios dado que, si \\nbien la prestación ortoprotésica ambulatoria está sujeta a aportación, no lo hace mediante \\nel patrón de aportación definido para la prestación farmacéutica.\\nPor tanto, para agrupar conceptualmente la cartera común de servicios del SNS y \\nevitar que, de acuerdo con lo establecido por el Real Decreto-ley 16/2012, de 20 de abril, \\npuedan incorporarse nuevos copagos sanitarios a la población española, se pretende \\nreestablecer la cartera común de servicios como una única cartera cuya provisión estará \\ncubierta de forma completa por financiación pública, manteniendo la aportación en los \\nsupuestos de la prestación farmacéutica, la prestación ortoprotésica y las prestaciones de \\nservicios accesorios, que estarán sujetas a aportación por parte de la persona usuaria o y \\nse regirán por su normativa específica.\\nAsimismo, se redefine la cartera para incluir y visualizar, de forma inequívoca, que \\nlas prestaciones de salud pública forman parte de la cartera común de servicios del SNS \\ny que deben prestarse en un marco conjunto y coordinado para la mejora de la salud de \\nla población. En este apartado, además se considera relevante poner de manifiesto que \\nla prestación del servicio sanitario se debe realizar garantizando el derecho a la \\nparticipación en salud, que no solo se debe satisfacer de forma individual, sino también \\ncolectiva y con representación institucional en los órganos del SNS. Por ello, además \\nde incluirse en la definición de la cartera, se materializa la participación de la ciudadanía \\nen los órganos de asesoramiento del SNS como paso adelante a la buena gobernanza \\nde nuestro sistema sanitario público.\\nDe igual forma, se concreta, dentro de la prestación de atención especializada, la \\nmedicina de precisión, personalizada, predictiva, preventiva, participativa y poblacional, que \\nestá centrada en las características de cada paciente para adaptar de una manera más', metadata={'source': 'database/pdfs/doc1.pdf', 'page': 4}),\n",
       " Document(page_content='medicina de precisión, personalizada, predictiva, preventiva, participativa y poblacional, que \\nestá centrada en las características de cada paciente para adaptar de una manera más \\nindividualizada el diagnóstico y las medidas terapéuticas o preventivas.\\nPor último, con objeto de clarificar en la prestación de atención especializada y \\nsociosanitaria que la rehabilitación en pacientes con déficit funcional es la encaminada \\na facilitarles, mantenerles o devolverles el mayor grado de capacidad funcional e \\nindependencia posible, con el fin de mantenerles la máxima autonomía y reintegrarles en \\nsu medio habitual, se modifican los artículos 13 y 14 de la Ley 16/2003, de  28 de mayo. \\nTodo ello, en correspondencia con lo dispuesto en el Real Decreto 1030/2006, de 15 de \\nseptiembre, por el que se establece la cartera de servicios comunes del Sistema Nacional \\nde Salud y el procedimiento para su actualización, que regula en sus anexos el contenido \\ncve: BOCG-15-A-21-1', metadata={'source': 'database/pdfs/doc1.pdf', 'page': 4}),\n",
       " Document(page_content='BOLETÍN OFICIAL DE LAS CORTES GENERALES\\nCONGRESO DE LOS DIPUTADOS\\nSerie A  Núm. 21-1  24 de mayo de 2024  Pág. 6\\nde cada una de las carteras de servicios. Así pues, se incluye idéntica definición a la \\nrecogida en el apartado 8 del anexo III del real decreto citado para evitar posibles \\ninterpretaciones en el término recuperable que pudieran producir situaciones en su \\naplicación que no abordaran la globalidad de lo que comprende.\\nRespecto a la necesaria coordinación entre los servicios sanitarios y sociales y, en su \\ncaso, educativos, lo que se persigue con la modificación es la especificación de \\nmecanismos estructurales que faciliten la cooperación entre ámbitos indivisibles en la \\natención integral a las personas.\\nPor su parte, el artículo segundo modifica el texto refundido de la Ley de garantías y \\nuso racional de los medicamentos y productos sanitarios, aprobado por Real Decreto \\nLegislativo 1/2015, de 24 de julio, para incluir el porcentaje de aportación de la persona \\nusuaria en la prestación farmacéutica ambulatoria a través de oficinas de farmacia de las \\npersonas incluidas de novo en los artículos 3 y 3 bis de la Ley 16/2003, de 28 de mayo, \\nen concreto de las personas españolas de origen residentes en el exterior en sus \\ndesplazamientos temporales a nuestro país, así como los familiares que les acompañen, \\ny de las personas extranjeras que, no siendo titulares de derecho, tienen derecho a la \\nprotección de la salud y a la atención sanitaria en las mismas condiciones que las personas \\ntitulares de derecho durante su permanencia en nuestro país, como son las personas \\nextranjeras solicitantes de protección internacional, desplazadas solicitantes y beneficiarias \\nde protección temporal y víctimas de trata o de explotación sexual que hayan sido \\nidentificadas en el marco de lo dispuesto por el artículo 59 bis de la Ley Orgánica 4/2000, \\nde 11 de enero, de derechos y libertades de los extranjeros en España y su integración \\nsocial o que hayan sido acreditadas como tales en el marco de lo dispuesto por el \\nartículo 47 del Real Decreto-ley 6/2022, de 29 de marzo, por el que se adoptan medidas \\nurgentes en el marco del Plan Nacional de respuesta a las consecuencias económicas y \\nsociales de la guerra en Ucrania.\\nEn el supuesto de las personas ascendientes reagrupadas por su hijo o hija titular \\ndel derecho a la protección de la salud y a la asistencia sanitaria que estén a su cargo, las \\nmismas siguen el esquema general según el nivel renta consignada en la casilla de base \\nliquidable general y del ahorro de la declaración del Impuesto sobre la Renta de las \\nPersonas Físicas.\\nAsimismo, se añade una nueva disposición adicional que determina los conceptos \\nde persona asegurada o beneficiaria a efectos de lo previsto en la normativa internacional \\ny la aportación a la prestación farmacéutica y que traslada lo establecido en la disposición \\nadicional única del Real Decreto-ley 7/2018, de 27 de julio, sobre el acceso universal \\nal Sistema Nacional de Salud, con el objeto de proceder a su derogación y simplificar el \\nordenamiento jurídico, al quedar el Real Decreto-ley 7/2018, de 27 de julio, sin contenido \\nsustantivo propio por lo determinado en esta norma, con la salvedad de dicha disposición.\\nEl artículo tercero modifica el Real Decreto 8/2008, de 11 de enero, por el que se regula \\nla prestación por razón de necesidad a favor de los españoles residentes en el exterior y \\nretornados para que sea efectiva la modificación realizada en el artículo  3.2.d) de la \\nLey 16/2003, de  28 de mayo, de cohesión y calidad del Sistema Nacional de Salud y así, \\nlos españoles de origen residentes en el exterior y los familiares que les acompañen tengan \\nderecho a la asistencia sanitaria en sus desplazamientos temporales a nuestro país en los \\ntérminos previstos en la legislación vigente en materia sanitaria.\\nLa disposición adicional primera se refiere a las referencias normativas hechas en', metadata={'source': 'database/pdfs/doc1.pdf', 'page': 5}),\n",
       " Document(page_content='términos previstos en la legislación vigente en materia sanitaria.\\nLa disposición adicional primera se refiere a las referencias normativas hechas en \\notras normas a la cartera común básica de servicios asistenciales, la cartera común \\nsuplementaria o la cartera común de servicios accesorios del SNS, que se entenderán \\ncomo cartera común de servicios, según se establece en la propuesta de modificación \\nrealizada en el artículo 8 de la Ley 16/2003, de  28 de mayo. Y se mantiene el ámbito \\nde aplicación del Real Decreto 576/2013, de 26 de julio, por el que se establecen los \\nrequisitos básicos del convenio especial de prestación de asistencia sanitaria a personas \\nque no tengan la condición de aseguradas ni de beneficiarias del Sistema Nacional de \\nSalud y se modifica el Real Decreto 1192/2012, de 3 de agosto, por el que se regula \\nla condición de persona asegurada o beneficiaria a efectos de la asistencia sanitaria \\ncve: BOCG-15-A-21-1', metadata={'source': 'database/pdfs/doc1.pdf', 'page': 5}),\n",
       " Document(page_content='BOLETÍN OFICIAL DE LAS CORTES GENERALES\\nCONGRESO DE LOS DIPUTADOS\\nSerie A  Núm. 21-1  24 de mayo de 2024  Pág. 7\\nen España, con cargo a fondos públicos, a través del Sistema Nacional de Salud, que \\nseguirá circunscrito a las actividades asistenciales de prevención, diagnóstico, tratamiento \\ny rehabilitación que se realicen en centros sanitarios o sociosanitarios, así como al \\ntransporte sanitario urgente.\\nLa disposición adicional segunda hace alusión a referencias realizadas en la Ley 16/2003, \\nde 28 de mayo, y en el Real Decreto Legislativo 1/2015, de 24 de julio, para evitar el uso de \\nlenguaje no sexista, de conformidad con el artículo 14.11 de la Ley Orgánica 3/2007, de 22 \\nde marzo, para la igualdad efectiva de mujeres y hombres.\\nPor último, se especifica el contenido de las restantes disposiciones:\\nLa disposición transitoria única contempla un régimen transitorio para el reconocimiento \\ndel derecho a la protección de la salud y a la atención sanitaria con cargo a fondos públicos \\nhasta que no entre en vigor el reglamento previsto en el artículo 3 ter.1 de la Ley  16/2003, \\nde 28 de mayo.\\nLa disposición derogatoria única establece la derogación de cuantas disposiciones \\nde igual o inferior rango se opongan, contradigan o resulten incompatibles con lo dispuesto \\nen esta ley y la derogación expresa del Real Decreto-ley 7/2018, de 27 de julio, sobre el \\nacceso universal al Sistema Nacional de Salud.\\nLa disposición final primera se refiere al título competencial.\\nLa disposición final segunda salvaguarda el rango normativo del Real Decreto 8/2008, \\nde 11 de enero, por el que se regula la prestación por razón de necesidad a favor de los \\nespañoles residentes en el exterior y retornados que modifica la presente ley, con el fin de \\nque siga ostentando rango reglamentario.\\nLa disposición final tercera se refiere a la habilitación normativa.\\nLa disposición final cuarta, sobre el carácter excepcional del trasplante de órganos de \\ndonante fallecido (TODF), persigue incrementar la igualdad efectiva en el acceso al TODF, \\nposibilitando el desarrollo reglamentario de unos criterios de acceso, objetivos y \\ntransparentes establecidos en el SNS, así como consolidar en nuestro ordenamiento \\njurídico que ninguna persona podrá acceder a la lista de espera de trasplante mediante \\nel pago de una contraprestación, razones por la que el acceso a órganos y su asignación \\npara realizar un trasplante de órganos quedó fuera del ámbito de aplicación de la \\nDirectiva 2011/24/UE del Parlamento europeo y del Consejo, de 9 de marzo de 2011, \\nrelativa a los derechos de los pacientes en la asistencia sanitaria transfronteriza, artículo 1, \\nasí como en el artículo 2, apartado 2.b) de su reglamento de transposición, el Real \\nDecreto 81/2014, de 7 de febrero.\\nLa disposición final quinta determina el momento de entrada en vigor de la ley, que \\ntendrá lugar a los veinte días de su publicación en el Boletín Oficial del Estado.\\nIII\\nCon esta norma se avanza en el cumplimiento de las metas establecidas en los \\nobjetivos 3 y 10 de la Agenda 2030 para el Desarrollo Sostenible, es decir, garantizar una \\nvida sana y promover el bienestar en todas las edades y reducir las desigualdades y que \\nnadie se quede atrás.\\nEsta ley responde a los principios de necesidad, eficacia, proporcionalidad, seguridad \\njurídica, transparencia y eficiencia, tal y como exige la Ley 39/2015, de 1 de octubre, del \\nProcedimiento Administrativo Común de las Administraciones Públicas. A estos efectos \\nse pone de manifiesto el cumplimiento de los principios de necesidad y eficacia, dado el \\ninterés general en el que se fundamentan las medidas que se establecen y que tienen \\ncomo fin último la protección de la salud de la población. Del mismo modo, la norma es \\nacorde con el principio de proporcionalidad al contener la regulación imprescindible para \\nla consecución de los objetivos previamente mencionados, ya que las medidas que ahora', metadata={'source': 'database/pdfs/doc1.pdf', 'page': 6}),\n",
       " Document(page_content='acorde con el principio de proporcionalidad al contener la regulación imprescindible para \\nla consecución de los objetivos previamente mencionados, ya que las medidas que ahora \\nse regulan resultan proporcionadas al bien público que se trata de proteger, no restringe \\nderechos ni impone obligaciones y supone una extensión del ámbito de aplicación del \\nderecho a la protección de la salud y de su alcance. Igualmente, se ajusta al principio \\ncve: BOCG-15-A-21-1', metadata={'source': 'database/pdfs/doc1.pdf', 'page': 6}),\n",
       " Document(page_content='BOLETÍN OFICIAL DE LAS CORTES GENERALES\\nCONGRESO DE LOS DIPUTADOS\\nSerie A  Núm. 21-1  24 de mayo de 2024  Pág. 8\\nde seguridad jurídica, siendo coherente con el resto del ordenamiento jurídico. Asimismo, \\ncumple con el principio de transparencia, ya que identifica claramente su propósito y \\nse ofrece una explicación. Y en relación con el principio de eficiencia, esta ley no impone \\ncarga administrativa alguna adicional a las existentes con anterioridad.\\nPor último, la modificación de las distintas normas se realiza en virtud de los títulos \\ncompetenciales que amparan dichas normas.\\nArtículo primero. Modificación de la Ley 16/2003, de 28 de mayo, de cohesión y calidad \\ndel Sistema Nacional de Salud.\\nLa Ley 16/2003, de 28 de mayo, de cohesión y calidad del Sistema Nacional de Salud, \\nqueda modificada de la siguiente manera:\\nUno. El artículo 3 queda redactado de la siguiente forma:\\n«Artículo  3. Titulares del derecho a la protección a la salud y a la atención sanitaria.\\n1. Son titulares del derecho a la protección de la salud y a la atención sanitaria \\ntodas las personas con nacionalidad española, así como las personas extranjeras \\nque tengan establecida su residencia en el territorio español.\\nSin perjuicio de lo anterior, las personas con derecho a la asistencia sanitaria \\nen España en aplicación de los reglamentos comunitarios de coordinación de \\nsistemas de Seguridad Social o de los convenios bilaterales que comprendan la \\nprestación de asistencia sanitaria tendrán acceso a la misma, siempre que residan \\nen territorio español o durante sus desplazamientos temporales a España, en la \\nforma, extensión y condiciones establecidos en las disposiciones comunitarias o \\nbilaterales indicadas.\\n2. Para hacer efectivo el derecho al que se refiere el párrafo primero del \\napartado 1 con cargo a los fondos públicos de las administraciones competentes, \\nlas personas titulares de los citados derechos deberán encontrarse en alguno de los \\nsiguientes supuestos:\\na) Tener nacionalidad española y residencia habitual en el territorio español.\\nb) Tener reconocido su derecho a la asistencia sanitaria en España por cualquier \\notro título jurídico, aun no teniendo su residencia habitual en territorio español, siempre \\nque no exista un tercero obligado al pago de dicha asistencia.\\nc) Ser persona extranjera y con residencia legal y habitual en el territorio \\nespañol y no tener la obligación de acreditar la cobertura obligatoria de la prestación \\nsanitaria por otra vía.\\nd) Ser persona con nacionalidad española de origen residente en el exterior \\nque, no teniendo cobertura de la asistencia sanitaria de acuerdo con las normas \\ninternacionales en materia de coordinación de Seguridad Social, se desplazada \\ntemporalmente al territorio español, así como los familiares que, sin tener cobertura \\nsanitaria por otra vía, le acompañen y se encuentren en alguna de las siguientes \\nsituaciones:\\n1.ª Ser su cónyuge o conviviente con una relación de afectividad análoga a \\nla conyugal, constituyendo una pareja de hecho.\\n2.ª Ser su descendiente o de su cónyuge o de su pareja de hecho, cuando \\nesté a cargo de aquellas.\\n3.ª Ser su ascendiente o de su cónyuge o de su pareja de hecho, cuando esté \\na cargo de aquellas.\\nPara que las personas contempladas en esta letra reciban atención sanitaria \\ncon cargo a fondos públicos, esta atención no podrá constituir el motivo de su \\ndesplazamiento.\\ncve: BOCG-15-A-21-1', metadata={'source': 'database/pdfs/doc1.pdf', 'page': 7}),\n",
       " Document(page_content='BOLETÍN OFICIAL DE LAS CORTES GENERALES\\nCONGRESO DE LOS DIPUTADOS\\nSerie A  Núm. 21-1  24 de mayo de 2024  Pág. 9\\ne) Ser persona ascendiente reagrupada por su hijo o hija titular del derecho \\na la protección y a la asistencia sanitaria y estar a su cargo, siempre que no exista \\nun tercero obligado al pago de su asistencia sanitaria. A tales efectos, las \\nautoridades competentes no exigirán seguro de enfermedad para la autorización \\nde residencia en España o la inscripción en el registro central de extranjeros, \\ncuando comprueben que la persona ascendiente se encuentra a cargo de la \\npersona titular del derecho.\\n3. Aquellas personas que de acuerdo con el apartado 2 no tengan derecho a \\nla asistencia sanitaria con cargo a fondos públicos podrán obtener dicha prestación \\nmediante el pago de la correspondiente contraprestación o cuota derivada de la \\nsuscripción de un convenio especial.\\n4. Lo dispuesto en los apartados anteriores de este artículo no modifica el \\nrégimen de asistencia sanitaria de las personas titulares y sus beneficiarias de los \\nregímenes especiales de la Seguridad Social gestionados por la Mutualidad General \\nde Funcionarios Civiles del Estado, la Mutualidad General Judicial y el Instituto Social \\nde las Fuerzas Armadas, que mantendrán su régimen jurídico específico.\\nA este respecto, las personas encuadradas en dichas mutualidades que hayan \\noptado por recibir asistencia sanitaria a través del sistema sanitario público serán \\nadscritas a los servicios de salud de las Comunidades Autónomas o al Instituto \\nNacional de Gestión Sanitaria, según corresponda, que les facilitarán, conforme a \\nlas normas legales y de procedimiento que rijan en el ámbito de dichos servicios, \\nla cartera común de servicios del Sistema Nacional de Salud, que se financiará \\nconforme a lo previsto en el artículo 10 con la única salvedad de la prestación \\nfarmacéutica ambulatoria a través de las oficinas de farmacia.\\nPor su parte, las personas encuadradas en dichas mutualidades que hayan \\noptado por recibir asistencia sanitaria a través de entidades de seguro deberán \\nser atendidas en los centros sanitarios concertados por estas entidades. En caso \\nde recibir asistencia en centros sanitarios públicos, el gasto correspondiente a \\nla asistencia prestada será reclamado al tercero obligado al pago, de acuerdo a la \\nnormativa vigente.»\\nDos. El artículo 3 bis queda redactado de la siguiente forma:\\n«Artículo  3 bis. Protección de la salud y atención sanitaria a las personas \\nextranjeras no titulares del derecho.\\n1. Las siguientes personas extranjeras tienen derecho a la protección de la \\nsalud y a la atención sanitaria en las mismas condiciones que las personas titulares \\ndel derecho durante su permanencia en España:\\na) Personas solicitantes de protección internacional.\\nb) Personas solicitantes y beneficiarias de protección temporal.\\nc) Víctimas de trata de seres humanos o de explotación sexual que hayan \\nsido identificadas en el marco de lo dispuesto por el artículo 59 bis de la Ley \\nOrgánica 4/2000, de 11 de enero, de derechos y libertades de los extranjeros en \\nEspaña y su integración social o que hayan sido acreditadas como tales en el marco \\nde lo dispuesto por el artículo 47 del Real Decreto-ley 6/2022, de 29 de marzo, por \\nel que se adoptan medidas urgentes en el marco del Plan Nacional de respuesta \\na las consecuencias económicas y sociales de la guerra en Ucrania.\\nd) Personas no registradas ni autorizadas como residentes en España.\\n2. La asistencia sanitaria a la que se refiere este artículo no genera un \\nderecho a la cobertura de la asistencia sanitaria fuera del territorio español \\nfinanciada con cargo a los fondos públicos de las administraciones competentes, \\nsin perjuicio de lo dispuesto en las normas internacionales en materia de seguridad \\nsocial aplicables.\\ncve: BOCG-15-A-21-1', metadata={'source': 'database/pdfs/doc1.pdf', 'page': 8}),\n",
       " Document(page_content='BOLETÍN OFICIAL DE LAS CORTES GENERALES\\nCONGRESO DE LOS DIPUTADOS\\nSerie A  Núm. 21-1  24 de mayo de 2024  Pág. 10\\n3. En el caso de las personas incluidas en la letra d) del apartado 1 la citada \\nasistencia será con cargo a los fondos públicos de las administraciones competentes \\nsiempre que dichas personas cumplan todos los siguientes requisitos:\\na) No tener la obligación de acreditar la cobertura obligatoria de la prestación \\nsanitaria por otra vía, en virtud de lo dispuesto en el derecho de la Unión Europea, \\nlos convenios bilaterales y demás normativa aplicable.\\nb) No poder exportar el derecho de cobertura sanitaria desde su país de origen \\no procedencia.\\nc) No existir un tercero obligado al pago.\\nEstos requisitos podrán acreditarse ante las administraciones competentes \\nmediante declaración responsable de la persona solicitante, de acuerdo al \\nartículo 69 de la Ley 39/2015, de 1 de octubre, del Procedimiento Administrativo \\nComún de las Administraciones Públicas.\\n4. Para que las personas extranjeras que se encuentren en situación de \\nestancia, de acuerdo con lo previsto en la Ley Orgánica 4/2000, de 11 de enero, \\nsobre Derechos y Libertades de los Extranjeros en España y su Integración Social,  \\nreciban asistencia sanitaria con cargo a los fondos públicos s erá preceptivo un \\ninforme previo favorabl e que acredite su voluntad de residir en España emitido \\npor los servicios sociales competentes de las Comunidades Autónomas o de las \\nciudades de Ceuta o de Melilla en el caso  del Instituto Nacional de Gestión Sanitaria. \\nLa atención sanitaria no podrá constituir el motivo de su desplazamiento.\\n5. Las Comunidades Autónomas y el Instituto Nacional de Gestión Sanitaria, \\nen el ámbito de sus competencias, fijarán el procedimiento para la solicitud y \\nexpedición del documento certificativo que acredite a las personas extranjeras para \\npoder recibir la prestación asistencial a la que se refiere este artículo. En cualquier \\ncaso, la asistencia se prestará con cargo a los fondos públicos desde e l momento \\nde la presentación de la solicitud, sin menoscabo de que posteriormente, al \\nresolverse el procedimiento administrativo, se deba gestionar el pago de la \\nasistencia recibida por la persona usuaria o por un tercero obligado al pago.\\n6. Las Comunidades Autónomas y el Instituto Nacional de Gestión Sanitaria \\ndeberán comunicar al Ministerio de Sanidad, mediante el procedimiento que se \\ndetermine, los documentos certificativos que se expidan en aplicación de lo previsto \\nen este artículo.»\\nTres. El artículo 3 ter queda redactado de la siguiente forma:\\n«Artículo 3 ter.  Reconocimiento del derecho a la protección de la salud y a la \\natención sanitaria con cargo a fondos públicos.\\n1. La competencia para el reconocimiento y control del derecho a la protección \\nde la salud y a la atención sanitaria con cargo a fondos públicos corresponderá al \\nMinisterio de Sanidad con la colaboración de las entidades y administraciones \\npúblicas imprescindibles para comprobar la concurrencia de los requisitos a los que \\nse refiere el artículo 3.2. Reglamentariamente se determinarán los procedimientos \\npara ejercer el reconocimiento y control del derecho, cuya gestión podrá estar \\natribuida a otros órganos o entidades de las administraciones públicas.\\nSin perjuicio de lo dispuesto en el párrafo anterior, la expedición del documento \\ncertificativo que acredite el derecho a la protección de la salud y a la atención \\nsanitaria en los supuestos a que se refiere el artículo 3 bis, así como la gestión de \\nla asistencia sanitaria, será competencia de las Comunidades Autónomas y el \\nInstituto Nacional de Gestión Sanitaria.\\nPor su parte, el reconocimiento y la gestión de los derechos de asistencia \\nsanitaria derivados de las normas internacionales de coordinación de los sistemas \\nde seguridad social, así como las demás funciones atribuidas por dichas normas a \\ncve: BOCG-15-A-21-1', metadata={'source': 'database/pdfs/doc1.pdf', 'page': 9}),\n",
       " Document(page_content='BOLETÍN OFICIAL DE LAS CORTES GENERALES\\nCONGRESO DE LOS DIPUTADOS\\nSerie A  Núm. 21-1  24 de mayo de 2024  Pág. 11\\nlas instituciones competentes y organismos de enlace, corresponderán al Instituto \\nNacional de la Seguridad Social o al Instituto Social de la Marina en el ámbito de las \\ncompetencias que tienen asignadas.\\n2. Una vez reconocido el derecho a la protección de la salud y a la atención \\nsanitaria con cargo a fondos públicos, este se hará efectivo por las administraciones \\nsanitarias competentes, que facilitarán el acceso de los ciudadanos a las prestaciones \\nde asistencia sanitaria mediante la expedición de la tarjeta sanitaria individual o del \\ndocumento que en cada caso corresponda.\\n3. El Ministerio de Sanidad y los órganos o las entidades de las administraciones \\npúblicas a las que se refiere el apartado 1 podrán acceder telemáticamente a los \\ndatos referentes a la situación administrativa de los extranjeros, así como a otros \\ndatos personales, excluidos los datos de salud, para realizar la comprobación \\nnecesaria del reconocimiento y control del derecho a la protección de la salud y a la \\natención sanitaria con cargo a fondos públicos, de acuerdo con lo dispuesto en el \\nartículo 6.1.e) del Reglamento (UE) 2016/679 del Parlamento Europeo y del Consejo, \\nde 27 de abril de 2016.\\nDel mismo modo, el Ministerio de Sanidad y los órganos o las entidades de las \\nadministraciones públicas a las que se refiere el apartado 1 podrán tratar los datos \\nadministrativos obrantes en los ficheros de las entidades gestoras, servicios comunes \\ny órganos de las administraciones públicas competentes para verificar la concurrencia \\ndel reconocimiento y control del citado derecho.\\nEl Ministerio de Sanidad y los órganos o las entidades de las administraciones \\npúblicas a las que se refiere el apartado 1 tratarán la información a la que se refieren \\nlos dos párrafos anteriores con la finalidad de comunicar a las administraciones \\nsanitarias competentes los datos administrativos, así como otros datos personales, \\nexcluidos los datos de salud, necesarios para verificar en cada momento que se \\nmantienen las condiciones y los requisitos exigidos para el reconocimiento del derecho \\na la protección de la salud y atención sanitaria con cargo a fondos públicos.\\nCualquier modificación o variación que puedan comunicar el Ministerio de \\nSanidad y los órganos o las entidades de las administraciones públicas a las que \\nse refiere el apartado 1 deberá surtir los efectos que procedan en la tarjeta sanitaria \\nindividual o en el documento que en cada caso corresponda.»\\nCuatro. El artículo 8 queda redactado de la siguiente forma:\\n«Artículo 8. Cartera común de servicios del Sistema Nacional de Salud.\\n1. La cartera común de servicios del Sistema Nacional de Salud comprende \\ntodas las actividades asistenciales de promoción de la salud, prevención, \\ndiagnóstico, tratamiento y rehabilitación que se realicen en centros sanitarios o \\nsociosanitarios, con ingreso del paciente o ambulatoriamente, pudiendo ser la \\nmodalidad de atención presencial o no presencial, incluyendo las prestaciones \\nfarmacéutica, ortoprotésica, de productos dietoterápicos, el transporte sanitario \\nurgente y no urgente, así como los servicios accesorios, entendiendo como tales las \\nactividades, servicios o técnicas, sin carácter de prestación, que no se consideran \\nesenciales y/o que son coadyuvantes o de apoyo para la mejora de una patología \\nde carácter crónico o para la prevención de la intensificación de una discapacidad. \\nAsimismo, incluye las prestaciones de salud pública.\\n2. Todas las prestaciones incluidas en la cartera común de servicios estarán \\nbasadas en el conocimiento y evidencia científica, mediante los que se hacen efectivas \\nlas prestaciones sanitarias y de mejora de la salud de la población.\\n3. En el seno del Consejo Interterritorial del Sistema Nacional de Salud \\nse acordará la cartera común de servicios del Sistema Nacional de Salud, que se', metadata={'source': 'database/pdfs/doc1.pdf', 'page': 10}),\n",
       " Document(page_content='3. En el seno del Consejo Interterritorial del Sistema Nacional de Salud \\nse acordará la cartera común de servicios del Sistema Nacional de Salud, que se \\naprobará mediante real decreto, sin perjuicio de la normativa específica aplicable \\na la prestación farmacéutica.\\ncve: BOCG-15-A-21-1', metadata={'source': 'database/pdfs/doc1.pdf', 'page': 10}),\n",
       " Document(page_content='BOLETÍN OFICIAL DE LAS CORTES GENERALES\\nCONGRESO DE LOS DIPUTADOS\\nSerie A  Núm. 21-1  24 de mayo de 2024  Pág. 12\\n4. La prestación de estos servicios se hará de forma que se garantice la \\ncontinuidad asistencial y la longitudinalidad, bajo un enfoque multidisciplinar, centrado \\nen la persona, garantizando la máxima calidad y seguridad en su prestación, así \\ncomo las condiciones de accesibilidad y equidad para toda la población cubierta y el \\nderecho a la participación en salud.\\n5. Para las prestaciones ortoprotésica, de productos dietoterápicos y de \\nservicios accesorios se aprobarán, por orden de la persona titular del Ministerio \\nde Sanidad, previo acuerdo del Consejo Interterritorial del Sistema Nacional de \\nSalud, a propuesta de la Comisión de prestaciones, aseguramiento y financiación, \\nla actualización del catálogo de prestaciones, los importes máximos de financiación \\ny los coeficientes de corrección a aplicar para determinar la facturación definitiva \\na los servicios autonómicos de salud, al Instituto Nacional de Gestión Sanitaria \\ny a las mutualidades administrativas por parte de los proveedores, que tendrá la \\nconsideración de precio final.\\n6. La cartera común de servicios está financiada en su totalidad con cargo a \\nlos fondos públicos, salvo las singularidades establecidas en la normativa específica \\nen el caso de la prestación farmacéutica, la prestación ortoprotésica y las \\nprestaciones de servicios accesorios que estarán sujetas a aportación por parte \\nde la persona usuaria.\\n7. El Ministerio de Sanidad realizará periódicamente una evaluación de los \\ncostes de aplicación de la cartera común de servicios del Sistema Nacional de \\nSalud, así como del cumplimiento de la equidad en el acceso a las prestaciones \\ny servicios incluidos en ella.»\\nCinco. Se suprimen los artículos 8 bis, 8 ter y 8 quáter.\\nSeis. El artículo 13 queda redactado de la siguiente forma:\\n«Artículo 13. Prestación de atención especializada.\\n1. La atención especializada comprende actividades asistenciales, diagnósticas, \\nterapéuticas y de rehabilitación y cuidados, así como aquellas de promoción de la \\nsalud, educación sanitaria y prevención de la enfermedad, cuya naturaleza aconseja \\nque se realicen en este nivel. La atención especializada garantizará la continuidad \\nde la atención integral al paciente, una vez superadas las posibilidades de la atención \\nprimaria y hasta que aquel pueda reintegrarse en dicho nivel.\\n2. La atención sanitaria especializada, en coordinación con la atención \\nprimaria, comprenderá:\\na) La asistencia especializada en consultas.\\nb) La asistencia especializada en hospital de día, médico y quirúrgico.\\nc) La hospitalización en régimen de internamiento.\\nd) El apoyo a la atención primaria en el alta hospitalaria precoz y, en su caso, \\nla hospitalización a domicilio.\\ne) La indicación o prescripción, y la realización, en su caso, de procedimientos \\ndiagnósticos y terapéuticos.\\nf) La atención paliativa a enfermos terminales.\\ng) La atención a la salud mental.\\nh) La rehabilitación en pacientes con déficit funcional encaminada a facilitarles, \\nmantenerles o devolverles el mayor grado de capacidad funcional e independencia \\nposible, con el fin de mantener su máxima autonomía y reintegrarles en su medio \\nhabitual.\\ni) La medicina de precisión personalizada, predictiva, preventiva, participativa \\ny poblacional.\\n3. La atención especializada se prestará, siempre que las condiciones \\ndel paciente lo permitan, en consultas externas y en hospital de día.»\\ncve: BOCG-15-A-21-1', metadata={'source': 'database/pdfs/doc1.pdf', 'page': 11}),\n",
       " Document(page_content='BOLETÍN OFICIAL DE LAS CORTES GENERALES\\nCONGRESO DE LOS DIPUTADOS\\nSerie A  Núm. 21-1  24 de mayo de 2024  Pág. 13\\nSiete. El artículo 14 queda redactado de la siguiente forma:\\n«Artículo 14. Prestación de atención sociosanitaria.\\n1. La atención sociosanitaria comprende el conjunto de cuidados destinados a \\naquellas personas, generalmente pacientes crónicos y/o personas con discapacidad, \\nque por sus especiales características pueden beneficiarse de la actuación \\nsimultánea y sinérgica de los servicios sanitarios y sociales, y en su caso educativos, \\npara aumentar su autonomía, paliar sus limitaciones o sufrimientos y facilitar \\nsu reinserción social y en su caso, y de acuerdo con sus condiciones personales, \\nel mantenimiento o la reintegración en el ámbito laboral.\\n2. En el ámbito sanitario, la atención sociosanitaria se llevará a cabo en los \\nniveles de atención que cada comunidad autónoma y el Instituto Nacional de Gestión \\nSanitaria determine y en cualquier caso comprenderá:\\na) Los cuidados sanitarios de larga duración.\\nb) La atención sanitaria a la convalecencia.\\nc) La rehabilitación en pacientes con déficit funcional encaminada a facilitarles, \\nmantenerles o devolverles el mayor grado de capacidad funcional e independencia \\nposible, con el fin de mantener su máxima autonomía y reintegrarles en su medio \\nhabitual.\\n3. La continuidad del servicio será garantizada por los servicios sanitarios y \\nsociales y, en su caso, educativos, a través de la adecuada coordinación entre las \\nadministraciones públicas correspondientes.\\n4. Esta coordinación será reforzada mediante la constitución de órganos de \\ncoordinación sociosanitaria en las Comunidades Autónomas y ciudades de Ceuta y \\nde Melilla que faciliten la cooperación entre el ámbito social y sanitario, así como el \\neducativo, para responder de forma integral, coordinada y eficiente a las necesidades \\nde atención de las personas en situación de dependencia, con discapacidad o con \\nenfermedades crónicas o de salud mental, entre otras. Asimismo, se dispondrá de un \\nsistema de información compartido que permita la gestión y el seguimiento de los \\nplanes de atención individualizados.»\\nArtículo segundo. Modificación del texto refundido de la Ley de garantías y uso racional \\nde los medicamentos y productos sanitarios, aprobado por Real Decreto \\nLegislativo 1/2015, de 24 de julio.\\nEl texto refundido de la Ley de garantías y uso racional de los medicamentos y \\nproductos sanitarios, aprobado por Real Decreto Legislativo 1/2015, de 24 de julio, queda \\nmodificado de la siguiente manera:\\nUno. El párrafo e) del apartado 5 del artículo 102 queda redactado de la siguiente \\nforma:\\n«e) Un 40 % del PVP para las personas extranjeras no registradas ni \\nautorizadas como residentes en España a las que se refiere el artículo 3 bis de la \\nLey 16/2003, de 28 de mayo.»\\nDos. Se adicionan dos nuevos párrafos f) y g) al apartado 5 del artículo 102, en los \\nsiguientes términos:\\n«f) Un 40 % del PVP para las personas con nacionalidad española de origen \\nresidentes en el exterior desplazadas temporalmente al territorio español, así \\ncomo los familiares que les acompañen, a las que se refiere el artículo 3 de la \\nLey 16/2003, de 28 de mayo.\\ng) Un 40 % del PVP para las personas extranjeras solicitantes de protección \\ninternacional, desplazadas solicitantes y beneficiarias de protección temporal y \\ncve: BOCG-15-A-21-1', metadata={'source': 'database/pdfs/doc1.pdf', 'page': 12}),\n",
       " Document(page_content='BOLETÍN OFICIAL DE LAS CORTES GENERALES\\nCONGRESO DE LOS DIPUTADOS\\nSerie A  Núm. 21-1  24 de mayo de 2024  Pág. 14\\nvíctimas de trata de seres humanos o de explotación sexual a las que se refiere el \\nartículo 3 bis de la Ley 16/2003, de 28 de mayo.»\\nTres. Se adiciona la disposición adicional decimoséptima, en los siguientes términos:\\n«Disposición adicional decimoséptima.  Conceptos de persona asegurada o \\nbeneficiaria a efectos de lo previsto en la normativa internacional y la aportación \\na la prestación farmacéutica.\\n1. A los efectos de lo establecido en las normas internacionales de \\ncoordinación de los sistemas de Seguridad Social y en la presente ley, el concepto \\nde persona asegurada se entenderá realizado a aquellas personas que se \\nencuentren en alguno de los supuestos previstos en el artículo 3.2 de la \\nLey 16/2003, de 28 de mayo.\\n2. A los efectos de lo establecido en las normas internacionales de coordinación \\nde los sistemas de Seguridad Social y la presente ley, tendrán la condición \\nde personas beneficiarias de las personas a las que se refiere el apartado 3.2 \\nde la Ley 16/2003, de 28 de mayo, el cónyuge o persona con análoga relación de \\nafectividad, que deberá acreditar la inscripción oficial correspondiente, así como los \\ndescendientes y personas asimiladas a cargo del mismo que sean menores de 26 \\naños o que tengan una discapacidad en grado igual o superior al  65 %, siempre que \\ncumplan todos los siguientes requisitos:\\na) Tengan su residencia legal y habitual en España, salvo que la misma no sea \\nexigible en virtud de la norma internacional correspondiente, o que se trate de \\npersonas que se desplacen temporalmente a España y estén a cargo de trabajadores \\ntrasladados por su empresa fuera del territorio español en situación asimilada a la de \\nalta en el correspondiente régimen de la Seguridad Social.\\nb) No se encuentren en alguno de los siguientes supuestos de los regímenes \\nde la Seguridad Social:\\n1.º Ser trabajador por cuenta ajena o por cuenta propia, afiliado y en situación \\nde alta o asimilada a la de alta.\\n2.º Ostentar la condición de pensionista de dichos regímenes en su modalidad \\ncontributiva.\\n3.º Ser perceptor de cualquier otra prestación periódica de dichos regímenes».\\nArtículo tercero. Modificación del Real Decreto 8/2008, de 11 de enero, por el que se \\nregula la prestación por razón de necesidad a favor de los españoles residentes en el \\nexterior y retornados.\\nEl Real Decreto 8/2008, de 11 de enero, por el que se regula la prestación por razón \\nde necesidad a favor de los españoles residentes en el exterior y retornados, queda \\nmodificado de la siguiente manera:\\nEl artículo 26 queda redactado de la siguiente forma:\\n«Artículo 26. Asistencia sanitaria para las personas españolas de origen desplazadas \\ntemporalmente al territorio nacional y para los familiares que les acompañen.\\nLas personas españolas de origen residentes en el exterior, así como los \\nfamiliares que les acompañen, tendrán derecho a la asistencia sanitaria en sus \\ndesplazamientos temporales a nuestro país en los términos previstos en la legislación \\nvigente en materia sanitaria.»\\ncve: BOCG-15-A-21-1', metadata={'source': 'database/pdfs/doc1.pdf', 'page': 13}),\n",
       " Document(page_content='BOLETÍN OFICIAL DE LAS CORTES GENERALES\\nCONGRESO DE LOS DIPUTADOS\\nSerie A  Núm. 21-1  24 de mayo de 2024  Pág. 15\\nDisposición adicional primera. Referencias normativas a las modalidades de la cartera \\ncomún de servicios del Sistema Nacional de Salud.\\nLas referencias hechas en otras normas a la cartera común básica de servicios \\nasistenciales, a la cartera común suplementaria o a la cartera común de servicios accesorios \\ndel Sistema Nacional de Salud se entenderán realizadas a la cartera común de servicios, \\nsegún se establece en el artículo 8 de la Ley 16/2003, de 28 de mayo.\\nSe mantiene el ámbito de aplicación del Real Decreto 576/2013, de 26 de julio, por el \\nque se establecen los requisitos básicos del convenio especial de prestación de asistencia \\nsanitaria a personas que no tengan la condición de aseguradas ni de beneficiarias del \\nSistema Nacional de Salud y se modifica el Real Decreto 1192/2012, de 3 de agosto, por \\nel que se regula la condición de asegurado y de beneficiario a efectos de la asistencia \\nsanitaria en España, con cargo a fondos públicos, a través del Sistema Nacional de Salud, \\nque seguirá circunscrito a las actividades asistenciales de prevención, diagnóstico, \\ntratamiento y rehabilitación que se realicen en centros sanitarios o sociosanitarios, así \\ncomo al transporte sanitario urgente.\\nDisposición adicional segunda. Referencias en las normas de fecha anterior.\\nA partir de la entrada en vigor de esta ley, todas las referencias que se contengan \\nen la Ley 16/2003, de 28 de mayo, de cohesión y calidad del Sistema Nacional de Salud \\ny en el Real Decreto Legislativo 1/2015, de 24 de julio, por el que se aprueba el texto \\nrefundido de la Ley de garantías y uso racional de los medicamentos y productos \\nsanitarios a los términos «el usuario», «el asegurado» y «el beneficiario» se entenderán \\nhechas, respectivamente, a «la persona usuaria», «la persona asegurada» y «la persona \\nbeneficiaria».\\nDisposición transitoria única. Régimen transitorio para el reconocimiento del derecho \\na la protección de la salud y a la atención sanitaria con cargo a fondos públicos.\\n1. En tanto no se apruebe el reglamento previsto en el artículo 3 ter.1 de la \\nLey 16/2003, de 28 de mayo, corresponderá al Instituto Nacional de la Seguridad Social el \\nreconocimiento y control de la condición de titular del derecho a la protección de la salud \\ny la atención sanitaria con cargo a fondos públicos, siendo de aplicación los procedimientos \\ny sistemas de gestión existentes a la entrada en vigor de esta ley.\\n2. Corresponderá al Instituto Social de la Marina, en los términos previstos en el párrafo \\nanterior, el reconocimiento y control de la condición de titular del derecho a la protección de \\nla salud y la atención sanitaria con cargo a fondos públicos cuando el citado titular pertenezca \\nal Régimen Especial de la Seguridad Social de los Trabajadores del Mar.\\nDisposición derogatoria única. Derogación normativa.\\nQuedan derogadas cuantas disposiciones de igual o inferior rango se opongan, \\ncontradigan o resulten incompatibles con lo dispuesto en esta ley y, en particular, el \\nReal Decreto-ley 7/2018, de 27 de julio, sobre el acceso universal al Sistema Nacional \\nde Salud.\\nDisposición final primera. Título competencial.\\nLas normas modificadas por los artículos primero a tercero de esta ley se dictan \\nen virtud de los títulos competenciales que amparan dichas normas.\\ncve: BOCG-15-A-21-1', metadata={'source': 'database/pdfs/doc1.pdf', 'page': 14}),\n",
       " Document(page_content='BOLETÍN OFICIAL DE LAS CORTES GENERALES\\nCONGRESO DE LOS DIPUTADOS\\nSerie A  Núm. 21-1  24 de mayo de 2024  Pág. 16\\nDisposición final segunda.  Cláusula de salvaguardia para modificaciones de normas \\nde rango inferior.\\nSe mantiene el rango reglamentario del Real Decreto 8/2008, de 11 de enero, por \\nel que se regula la prestación por razón de necesidad a favor de los españoles residentes \\nen el exterior y retornados, modificado por esta ley.\\nDisposición final tercera. Habilitación normativa.\\nSe autoriza al Consejo de Ministros para dictar cuantas disposiciones reglamentarias \\nsean necesarias para el desarrollo de esta ley, así como para acordar las medidas \\nnecesarias para garantizar su efectiva ejecución e implantación.\\nDisposición final cuarta. Carácter excepcional del trasplante de órganos de donante \\nfallecido.\\nSe reconoce la excepcionalidad del trasplante de órganos de donante fallecido, debido \\na su subordinación a la disponibilidad de órganos. Con independencia de lo dispuesto \\nen el artículo 3.3 de la Ley 16/2003, de 28 de mayo, y sin perjuicio de lo establecido en el \\nartículo 23 de dicha ley, ninguna persona podrá acceder a la lista de espera de trasplante \\nmediante el pago de una contraprestación. En todo caso, para el acceso a dicha lista, será \\nnecesario cumplir los requisitos que se desarrollen reglamentariamente.\\nDisposición final quinta. Entrada en vigor.\\nLa presente ley entrará en vigor a los veinte días de su publicación en el «Boletín \\nOficial del Estado».\\ncve: BOCG-15-A-21-1\\nhttp://www.congreso.es  Calle Floridablanca, s/n. 28071 Madrid\\nD. L.: M-12.580/1961  CONGRESO DE LOS DIPUTADOS Teléf.: 91 390 60 00\\nEdición electrónica preparada por la Agencia Estatal Boletín Oficial del Estado – http://boe.es', metadata={'source': 'database/pdfs/doc1.pdf', 'page': 15})]"
      ]
     },
     "execution_count": 15,
     "metadata": {},
     "output_type": "execute_result"
    }
   ],
   "source": [
    "file_path = Path(\".\") / \"database\" / \"pdfs\" / \"doc1.pdf\"\n",
    "loader = PyPDFLoader(file_path)\n",
    "pages = loader.load_and_split()\n",
    "pages"
   ]
  },
  {
   "cell_type": "markdown",
   "metadata": {},
   "source": [
    "### Prompt Engineering"
   ]
  },
  {
   "cell_type": "code",
   "execution_count": 16,
   "metadata": {},
   "outputs": [],
   "source": [
    "\n",
    "template = \"\"\"\n",
    "Responde a la siguiente pregunta basándote en el contexto a continuación. Si no puedes responder, escribe \"No sé\".\n",
    "\n",
    "Contexto: {context}\n",
    "\n",
    "Pregunta: {question}\n",
    "\"\"\"\n",
    "\n",
    "prompt = PromptTemplate.from_template(template)"
   ]
  },
  {
   "cell_type": "code",
   "execution_count": 17,
   "metadata": {},
   "outputs": [
    {
     "name": "stdout",
     "output_type": "stream",
     "text": [
      "\n",
      "Responde a la siguiente pregunta basándote en el contexto a continuación. Si no puedes responder, escribe \"No sé\".\n",
      "\n",
      "Contexto: Me llamo Gonzalo.\n",
      "\n",
      "Pregunta: ¿Cómo me llamo?\n",
      "\n"
     ]
    }
   ],
   "source": [
    "print(prompt.format(context=\"Me llamo Gonzalo.\", question=\"¿Cómo me llamo?\"))"
   ]
  },
  {
   "cell_type": "code",
   "execution_count": 18,
   "metadata": {},
   "outputs": [
    {
     "data": {
      "text/plain": [
       "'Te llamas Gonzalo.'"
      ]
     },
     "execution_count": 18,
     "metadata": {},
     "output_type": "execute_result"
    }
   ],
   "source": [
    "chain = prompt | model | parser\n",
    "\n",
    "chain.invoke(\n",
    "    {\n",
    "        \"context\": \"Me llamo Gonzalo.\",\n",
    "        \"question\": \"¿Cómo me llamo?\"\n",
    "    }\n",
    ")"
   ]
  },
  {
   "cell_type": "code",
   "execution_count": 19,
   "metadata": {},
   "outputs": [
    {
     "data": {
      "text/plain": [
       "{'title': 'PromptInput',\n",
       " 'type': 'object',\n",
       " 'properties': {'context': {'title': 'Context', 'type': 'string'},\n",
       "  'question': {'title': 'Question', 'type': 'string'}}}"
      ]
     },
     "execution_count": 19,
     "metadata": {},
     "output_type": "execute_result"
    }
   ],
   "source": [
    "chain.input_schema.schema()"
   ]
  },
  {
   "cell_type": "markdown",
   "metadata": {},
   "source": [
    "### Creating a Local In-Memory Vector Database"
   ]
  },
  {
   "cell_type": "code",
   "execution_count": 20,
   "metadata": {},
   "outputs": [
    {
     "data": {
      "text/plain": [
       "[Document(page_content='acorde con el principio de proporcionalidad al contener la regulación imprescindible para \\nla consecución de los objetivos previamente mencionados, ya que las medidas que ahora \\nse regulan resultan proporcionadas al bien público que se trata de proteger, no restringe \\nderechos ni impone obligaciones y supone una extensión del ámbito de aplicación del \\nderecho a la protección de la salud y de su alcance. Igualmente, se ajusta al principio \\ncve: BOCG-15-A-21-1', metadata={'source': 'database/pdfs/doc1.pdf', 'page': 6}),\n",
       " Document(page_content='BOLETÍN OFICIAL DE LAS CORTES GENERALES\\nCONGRESO DE LOS DIPUTADOS\\nSerie A  Núm. 21-1  24 de mayo de 2024  Pág. 8\\nde seguridad jurídica, siendo coherente con el resto del ordenamiento jurídico. Asimismo, \\ncumple con el principio de transparencia, ya que identifica claramente su propósito y \\nse ofrece una explicación. Y en relación con el principio de eficiencia, esta ley no impone \\ncarga administrativa alguna adicional a las existentes con anterioridad.\\nPor último, la modificación de las distintas normas se realiza en virtud de los títulos \\ncompetenciales que amparan dichas normas.\\nArtículo primero. Modificación de la Ley 16/2003, de 28 de mayo, de cohesión y calidad \\ndel Sistema Nacional de Salud.\\nLa Ley 16/2003, de 28 de mayo, de cohesión y calidad del Sistema Nacional de Salud, \\nqueda modificada de la siguiente manera:\\nUno. El artículo 3 queda redactado de la siguiente forma:\\n«Artículo  3. Titulares del derecho a la protección a la salud y a la atención sanitaria.\\n1. Son titulares del derecho a la protección de la salud y a la atención sanitaria \\ntodas las personas con nacionalidad española, así como las personas extranjeras \\nque tengan establecida su residencia en el territorio español.\\nSin perjuicio de lo anterior, las personas con derecho a la asistencia sanitaria \\nen España en aplicación de los reglamentos comunitarios de coordinación de \\nsistemas de Seguridad Social o de los convenios bilaterales que comprendan la \\nprestación de asistencia sanitaria tendrán acceso a la misma, siempre que residan \\nen territorio español o durante sus desplazamientos temporales a España, en la \\nforma, extensión y condiciones establecidos en las disposiciones comunitarias o \\nbilaterales indicadas.\\n2. Para hacer efectivo el derecho al que se refiere el párrafo primero del \\napartado 1 con cargo a los fondos públicos de las administraciones competentes, \\nlas personas titulares de los citados derechos deberán encontrarse en alguno de los \\nsiguientes supuestos:\\na) Tener nacionalidad española y residencia habitual en el territorio español.\\nb) Tener reconocido su derecho a la asistencia sanitaria en España por cualquier \\notro título jurídico, aun no teniendo su residencia habitual en territorio español, siempre \\nque no exista un tercero obligado al pago de dicha asistencia.\\nc) Ser persona extranjera y con residencia legal y habitual en el territorio \\nespañol y no tener la obligación de acreditar la cobertura obligatoria de la prestación \\nsanitaria por otra vía.\\nd) Ser persona con nacionalidad española de origen residente en el exterior \\nque, no teniendo cobertura de la asistencia sanitaria de acuerdo con las normas \\ninternacionales en materia de coordinación de Seguridad Social, se desplazada \\ntemporalmente al territorio español, así como los familiares que, sin tener cobertura \\nsanitaria por otra vía, le acompañen y se encuentren en alguna de las siguientes \\nsituaciones:\\n1.ª Ser su cónyuge o conviviente con una relación de afectividad análoga a \\nla conyugal, constituyendo una pareja de hecho.\\n2.ª Ser su descendiente o de su cónyuge o de su pareja de hecho, cuando \\nesté a cargo de aquellas.\\n3.ª Ser su ascendiente o de su cónyuge o de su pareja de hecho, cuando esté \\na cargo de aquellas.\\nPara que las personas contempladas en esta letra reciban atención sanitaria \\ncon cargo a fondos públicos, esta atención no podrá constituir el motivo de su \\ndesplazamiento.\\ncve: BOCG-15-A-21-1', metadata={'source': 'database/pdfs/doc1.pdf', 'page': 7}),\n",
       " Document(page_content='BOLETÍN OFICIAL DE LAS CORTES GENERALES\\nCONGRESO DE LOS DIPUTADOS\\nSerie A  Núm. 21-1  24 de mayo de 2024  Pág. 7\\nen España, con cargo a fondos públicos, a través del Sistema Nacional de Salud, que \\nseguirá circunscrito a las actividades asistenciales de prevención, diagnóstico, tratamiento \\ny rehabilitación que se realicen en centros sanitarios o sociosanitarios, así como al \\ntransporte sanitario urgente.\\nLa disposición adicional segunda hace alusión a referencias realizadas en la Ley 16/2003, \\nde 28 de mayo, y en el Real Decreto Legislativo 1/2015, de 24 de julio, para evitar el uso de \\nlenguaje no sexista, de conformidad con el artículo 14.11 de la Ley Orgánica 3/2007, de 22 \\nde marzo, para la igualdad efectiva de mujeres y hombres.\\nPor último, se especifica el contenido de las restantes disposiciones:\\nLa disposición transitoria única contempla un régimen transitorio para el reconocimiento \\ndel derecho a la protección de la salud y a la atención sanitaria con cargo a fondos públicos \\nhasta que no entre en vigor el reglamento previsto en el artículo 3 ter.1 de la Ley  16/2003, \\nde 28 de mayo.\\nLa disposición derogatoria única establece la derogación de cuantas disposiciones \\nde igual o inferior rango se opongan, contradigan o resulten incompatibles con lo dispuesto \\nen esta ley y la derogación expresa del Real Decreto-ley 7/2018, de 27 de julio, sobre el \\nacceso universal al Sistema Nacional de Salud.\\nLa disposición final primera se refiere al título competencial.\\nLa disposición final segunda salvaguarda el rango normativo del Real Decreto 8/2008, \\nde 11 de enero, por el que se regula la prestación por razón de necesidad a favor de los \\nespañoles residentes en el exterior y retornados que modifica la presente ley, con el fin de \\nque siga ostentando rango reglamentario.\\nLa disposición final tercera se refiere a la habilitación normativa.\\nLa disposición final cuarta, sobre el carácter excepcional del trasplante de órganos de \\ndonante fallecido (TODF), persigue incrementar la igualdad efectiva en el acceso al TODF, \\nposibilitando el desarrollo reglamentario de unos criterios de acceso, objetivos y \\ntransparentes establecidos en el SNS, así como consolidar en nuestro ordenamiento \\njurídico que ninguna persona podrá acceder a la lista de espera de trasplante mediante \\nel pago de una contraprestación, razones por la que el acceso a órganos y su asignación \\npara realizar un trasplante de órganos quedó fuera del ámbito de aplicación de la \\nDirectiva 2011/24/UE del Parlamento europeo y del Consejo, de 9 de marzo de 2011, \\nrelativa a los derechos de los pacientes en la asistencia sanitaria transfronteriza, artículo 1, \\nasí como en el artículo 2, apartado 2.b) de su reglamento de transposición, el Real \\nDecreto 81/2014, de 7 de febrero.\\nLa disposición final quinta determina el momento de entrada en vigor de la ley, que \\ntendrá lugar a los veinte días de su publicación en el Boletín Oficial del Estado.\\nIII\\nCon esta norma se avanza en el cumplimiento de las metas establecidas en los \\nobjetivos 3 y 10 de la Agenda 2030 para el Desarrollo Sostenible, es decir, garantizar una \\nvida sana y promover el bienestar en todas las edades y reducir las desigualdades y que \\nnadie se quede atrás.\\nEsta ley responde a los principios de necesidad, eficacia, proporcionalidad, seguridad \\njurídica, transparencia y eficiencia, tal y como exige la Ley 39/2015, de 1 de octubre, del \\nProcedimiento Administrativo Común de las Administraciones Públicas. A estos efectos \\nse pone de manifiesto el cumplimiento de los principios de necesidad y eficacia, dado el \\ninterés general en el que se fundamentan las medidas que se establecen y que tienen \\ncomo fin último la protección de la salud de la población. Del mismo modo, la norma es \\nacorde con el principio de proporcionalidad al contener la regulación imprescindible para \\nla consecución de los objetivos previamente mencionados, ya que las medidas que ahora', metadata={'source': 'database/pdfs/doc1.pdf', 'page': 6}),\n",
       " Document(page_content='BOLETÍN OFICIAL DE LAS CORTES GENERALES\\nCONGRESO DE LOS DIPUTADOS\\nSerie A  Núm. 21-1  24 de mayo de 2024  Pág. 16\\nDisposición final segunda.  Cláusula de salvaguardia para modificaciones de normas \\nde rango inferior.\\nSe mantiene el rango reglamentario del Real Decreto 8/2008, de 11 de enero, por \\nel que se regula la prestación por razón de necesidad a favor de los españoles residentes \\nen el exterior y retornados, modificado por esta ley.\\nDisposición final tercera. Habilitación normativa.\\nSe autoriza al Consejo de Ministros para dictar cuantas disposiciones reglamentarias \\nsean necesarias para el desarrollo de esta ley, así como para acordar las medidas \\nnecesarias para garantizar su efectiva ejecución e implantación.\\nDisposición final cuarta. Carácter excepcional del trasplante de órganos de donante \\nfallecido.\\nSe reconoce la excepcionalidad del trasplante de órganos de donante fallecido, debido \\na su subordinación a la disponibilidad de órganos. Con independencia de lo dispuesto \\nen el artículo 3.3 de la Ley 16/2003, de 28 de mayo, y sin perjuicio de lo establecido en el \\nartículo 23 de dicha ley, ninguna persona podrá acceder a la lista de espera de trasplante \\nmediante el pago de una contraprestación. En todo caso, para el acceso a dicha lista, será \\nnecesario cumplir los requisitos que se desarrollen reglamentariamente.\\nDisposición final quinta. Entrada en vigor.\\nLa presente ley entrará en vigor a los veinte días de su publicación en el «Boletín \\nOficial del Estado».\\ncve: BOCG-15-A-21-1\\nhttp://www.congreso.es  Calle Floridablanca, s/n. 28071 Madrid\\nD. L.: M-12.580/1961  CONGRESO DE LOS DIPUTADOS Teléf.: 91 390 60 00\\nEdición electrónica preparada por la Agencia Estatal Boletín Oficial del Estado – http://boe.es', metadata={'source': 'database/pdfs/doc1.pdf', 'page': 15})]"
      ]
     },
     "execution_count": 20,
     "metadata": {},
     "output_type": "execute_result"
    }
   ],
   "source": [
    "# LOCAL IN-MEMORY VECTOR STORE\n",
    "vectorstore = DocArrayInMemorySearch.from_documents(\n",
    "    pages,\n",
    "    embedding=embeddings\n",
    ")\n",
    "retriever = vectorstore.as_retriever()\n",
    "retriever.invoke(\"puntos clave de esta ley\")\n"
   ]
  },
  {
   "cell_type": "markdown",
   "metadata": {},
   "source": [
    "### Testing End-to-End RAG"
   ]
  },
  {
   "cell_type": "code",
   "execution_count": 21,
   "metadata": {},
   "outputs": [],
   "source": [
    "\n",
    "chain = (\n",
    "    {\n",
    "        \"context\": itemgetter(\"question\") | retriever,\n",
    "        \"question\": itemgetter(\"question\")\n",
    "    }\n",
    "    | prompt\n",
    "    | model\n",
    "    | parser\n",
    ")"
   ]
  },
  {
   "cell_type": "code",
   "execution_count": 22,
   "metadata": {},
   "outputs": [
    {
     "data": {
      "text/plain": [
       "'El proyecto de ley entrará en vigor a los veinte días de su publicación en el Boletín Oficial del Estado.'"
      ]
     },
     "execution_count": 22,
     "metadata": {},
     "output_type": "execute_result"
    }
   ],
   "source": [
    "chain.invoke(\n",
    "    {\n",
    "        \"question\": \"¿Cuándo entrará en vigor el proyecto de ley?\"\n",
    "    }\n",
    ")"
   ]
  },
  {
   "cell_type": "code",
   "execution_count": 23,
   "metadata": {},
   "outputs": [
    {
     "data": {
      "text/plain": [
       "'El artículo 14 del proyecto de ley se refiere a la prestación de atención sociosanitaria.'"
      ]
     },
     "execution_count": 23,
     "metadata": {},
     "output_type": "execute_result"
    }
   ],
   "source": [
    "chain.invoke(\n",
    "    {\n",
    "        \"question\": \"Cuál es el artículo 14 del proyecto de ley?\"\n",
    "    }\n",
    ")"
   ]
  },
  {
   "cell_type": "code",
   "execution_count": 24,
   "metadata": {},
   "outputs": [],
   "source": [
    "# To see the output token by token as it is generated\n",
    "# for s in chain.stream({\"question\": \"¿Cuál es el artículo 14 del proyecto de ley?\"}):\n",
    "#     print(s, end=\"\", flush=True)"
   ]
  },
  {
   "cell_type": "code",
   "execution_count": 25,
   "metadata": {},
   "outputs": [],
   "source": [
    "# # Batch processing\n",
    "# questions = []\n",
    "# chain.batch([{\"question\" : q} for q in questions])"
   ]
  },
  {
   "cell_type": "markdown",
   "metadata": {},
   "source": [
    "**New document**"
   ]
  },
  {
   "cell_type": "code",
   "execution_count": 26,
   "metadata": {},
   "outputs": [],
   "source": [
    "file_path = Path(\".\") / \"database\" / \"pdfs\" / \"doc2.pdf\"\n",
    "loader = PyPDFLoader(file_path)\n",
    "pages = loader.load_and_split()\n",
    "vectorstore = DocArrayInMemorySearch.from_documents(\n",
    "    pages,\n",
    "    embedding=embeddings\n",
    ")\n",
    "retriever = vectorstore.as_retriever()\n",
    "chain = (\n",
    "    {\n",
    "        \"context\": itemgetter(\"question\") | retriever,\n",
    "        \"question\": itemgetter(\"question\")\n",
    "    }\n",
    "    | prompt\n",
    "    | model\n",
    "    | parser\n",
    ")"
   ]
  },
  {
   "cell_type": "code",
   "execution_count": 28,
   "metadata": {},
   "outputs": [],
   "source": [
    "questions = [\n",
    "    \"Detalla el título, la fecha, el autor y todos los stakeholders de esta proposición de ley.\",\n",
    "    \"De forma muy resumida, ¿por qué es importante esta ley?\",\n",
    "    \"De forma muy resumida, ¿a quién afecta esta ley?\",\n",
    "    \"Lista y describe los puntos clave de esta ley.\"\n",
    "]"
   ]
  },
  {
   "cell_type": "code",
   "execution_count": 29,
   "metadata": {},
   "outputs": [
    {
     "name": "stdout",
     "output_type": "stream",
     "text": [
      "### Question: Detalla el título, la fecha, el autor y todos los stakeholders de esta proposición de ley.\n",
      "### Answer: Título: Proposición de Ley por la que se modifica la Ley 12/2013, de 2 de agosto, de medidas para mejorar el funcionamiento de la cadena alimentaria.\n",
      "Fecha: 15 de marzo de 2024\n",
      "Autor: Grupo Parlamentario Republicano\n",
      "Stakeholders:\n",
      "- Grupo Parlamentario Republicano\n",
      "- Portavoz adjunta del Grupo Parlamentario Teresa Jordà i Roura\n",
      "- Ministerio competente en materia de agricultura, ganadería y alimentación\n",
      "\n",
      "### Question: De forma muy resumida, ¿por qué es importante esta ley?\n",
      "### Answer: Esta ley es importante porque busca mejorar el funcionamiento de la cadena alimentaria para garantizar precios justos a los productores agrícolas y combatir prácticas desleales en la distribución de alimentos. También busca proteger a los agricultores de vender a pérdidas y establecer un marco normativo que promueva la transparencia y equilibrio en la cadena alimentaria.\n",
      "\n",
      "### Question: De forma muy resumida, ¿a quién afecta esta ley?\n",
      "### Answer: Esta ley afecta principalmente a los agricultores y a los diferentes eslabones de la cadena alimentaria, incluyendo a la industria y la distribución.\n",
      "\n",
      "### Question: Lista y describe los puntos clave de esta ley.\n",
      "### Answer: Los puntos clave de esta ley son:\n",
      "\n",
      "1. Modificación de la Ley 12/2013, de 2 de agosto, de medidas para mejorar el funcionamiento de la cadena alimentaria.\n",
      "2. La ley actual no cubre las expectativas del sector agrícola en cuanto a la mejora del valor de la cadena alimentaria para garantizar precios justos.\n",
      "3. La ineficacia de la ley vigente para evitar que los agricultores vendan a pérdidas.\n",
      "4. Necesidad de una modificación de la Ley de la Cadena Alimentaria y una aplicación firme de la norma para garantizar precios que cubran los costes de producción.\n",
      "5. Falta de claridad en los objetivos de la ley actual y dificultad para su aplicación.\n",
      "6. Necesidad de establecer indicadores oficiales de referencia para calcular los costos de producción.\n",
      "7. Propuesta de cambios normativos para prohibir la reventa a pérdidas en la cadena alimentaria.\n",
      "8. Reducción de cargas burocráticas en el registro de contratos alimentarios.\n",
      "9. Incorporación de mecanismos para garantizar transparencia, protección de datos y negociación justa para los productores agrícolas.\n",
      "10. Establecimiento de sanciones para quienes incumplan la ley, incluyendo la reventa a pérdidas y la posición dominante en la cadena alimentaria.\n",
      "\n"
     ]
    }
   ],
   "source": [
    "for q in questions:\n",
    "    print(f\"### Question: {q}\")\n",
    "    print(f\"### Answer: {chain.invoke({'question': q})}\")\n",
    "    print()"
   ]
  }
 ],
 "metadata": {
  "kernelspec": {
   "display_name": ".venv",
   "language": "python",
   "name": "python3"
  },
  "language_info": {
   "codemirror_mode": {
    "name": "ipython",
    "version": 3
   },
   "file_extension": ".py",
   "mimetype": "text/x-python",
   "name": "python",
   "nbconvert_exporter": "python",
   "pygments_lexer": "ipython3",
   "version": "3.9.6"
  }
 },
 "nbformat": 4,
 "nbformat_minor": 2
}
